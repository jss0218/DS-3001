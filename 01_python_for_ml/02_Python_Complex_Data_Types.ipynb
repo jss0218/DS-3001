{
 "cells": [
  {
   "cell_type": "markdown",
   "metadata": {
    "id": "Ggj0CuCP3w7M"
   },
   "source": [
    "# Complex Data Types\n",
    "\n",
    "Now that we've covered the basic building blocks (boolean, string, int, and float), we'll learn structures that hold and relate many of those building blocks in ways that are useful for data analysis, visualization, and machine learning."
   ]
  },
  {
   "cell_type": "markdown",
   "metadata": {},
   "source": [
    "[![Open In Colab](https://colab.research.google.com/assets/colab-badge.svg)](https://colab.research.google.com/drive/1wgsLsEmt-YFbl5Qd58YSGzPEC2eWqEK_?usp=sharing)"
   ]
  },
  {
   "cell_type": "markdown",
   "metadata": {
    "id": "T3y-PBmL4ICp"
   },
   "source": [
    "## A: Lists"
   ]
  },
  {
   "cell_type": "markdown",
   "metadata": {
    "id": "2DL-Smi16br4"
   },
   "source": [
    "#### **Constructing Lists**\n",
    "\n",
    "Lists are used to store one or more items of constant or varying datatypes.\n",
    "\n",
    "They are constructed with square brackets, using commas to separate the individual values, as shown below:"
   ]
  },
  {
   "cell_type": "code",
   "execution_count": 1,
   "metadata": {
    "colab": {
     "base_uri": "https://localhost:8080/"
    },
    "id": "35Ocm8BlEvao",
    "outputId": "2cb862b3-38ae-4e5c-c6b3-ddbc073ee310"
   },
   "outputs": [
    {
     "data": {
      "text/plain": [
       "[]"
      ]
     },
     "execution_count": 1,
     "metadata": {},
     "output_type": "execute_result"
    }
   ],
   "source": [
    "emptyList = []\n",
    "emptyList"
   ]
  },
  {
   "cell_type": "code",
   "execution_count": 2,
   "metadata": {
    "colab": {
     "base_uri": "https://localhost:8080/"
    },
    "id": "tlQn91bzE5zQ",
    "outputId": "1fd2ecf0-49a0-452f-e6c9-70a0350b7823"
   },
   "outputs": [
    {
     "data": {
      "text/plain": [
       "[1, 2.0, '3.0', True]"
      ]
     },
     "execution_count": 2,
     "metadata": {},
     "output_type": "execute_result"
    }
   ],
   "source": [
    "myList = [1, 2.0, \"3.0\", True]\n",
    "myList"
   ]
  },
  {
   "cell_type": "code",
   "execution_count": 3,
   "metadata": {
    "id": "CTv8_U2J3fLl"
   },
   "outputs": [],
   "source": [
    "list_of_strings = [\"hello\", \"world\", \"how's\", \"it\", \"going\"]\n",
    "\n",
    "list_of_ints = [1, 2, 3, 4, 5]\n",
    "\n",
    "list_of_bools = [True, False, False, True, True]"
   ]
  },
  {
   "cell_type": "code",
   "execution_count": 4,
   "metadata": {
    "colab": {
     "base_uri": "https://localhost:8080/"
    },
    "id": "RHiHCx3Z6782",
    "outputId": "6927db53-3186-4394-f749-e172f36a59a8"
   },
   "outputs": [
    {
     "name": "stdout",
     "output_type": "stream",
     "text": [
      "['hello', 'world', \"how's\", 'it', 'going']\n"
     ]
    }
   ],
   "source": [
    "print(list_of_strings)"
   ]
  },
  {
   "cell_type": "markdown",
   "metadata": {
    "id": "MrcEj1aQ7A7c"
   },
   "source": [
    "As we mentioned, data as a list can be of multiple different types, shown below...\n",
    "\n",
    "..but in real-life applications, this can get a bit messy and confusing. Most of the time, your list will contain data of only one type."
   ]
  },
  {
   "cell_type": "code",
   "execution_count": 5,
   "metadata": {
    "id": "57iXAnHf7MYw"
   },
   "outputs": [],
   "source": [
    "multi_type_list = [\"it\", \"is\", True, \"that\", \"there\", \"are\", 3, \"datatypes\",\n",
    "                   \"in\", \"this\", \"list\"]"
   ]
  },
  {
   "cell_type": "code",
   "execution_count": 6,
   "metadata": {
    "colab": {
     "base_uri": "https://localhost:8080/"
    },
    "id": "LcZGGSt08f99",
    "outputId": "58a2b2a8-3416-4724-edaf-8100ea99a970"
   },
   "outputs": [
    {
     "name": "stdout",
     "output_type": "stream",
     "text": [
      "['it', 'is', True, 'that', 'there', 'are', 3, 'datatypes', 'in', 'this', 'list']\n"
     ]
    }
   ],
   "source": [
    "print(multi_type_list)"
   ]
  },
  {
   "cell_type": "markdown",
   "metadata": {
    "id": "e3loLIVGkK2Y"
   },
   "source": [
    "#### **Concatenating Lists**\n",
    "\n",
    "You can easily make a super-list with just using the regular old ``` + ``` operator between lists."
   ]
  },
  {
   "cell_type": "code",
   "execution_count": 7,
   "metadata": {
    "colab": {
     "base_uri": "https://localhost:8080/"
    },
    "id": "XZ9yL_Q5kSFA",
    "outputId": "1faefd7d-8b62-4685-c410-b3733a142c95"
   },
   "outputs": [
    {
     "data": {
      "text/plain": [
       "['one', 'two', 'three', 'seven', 'eight', 'nine', 'four', 'five', 'six']"
      ]
     },
     "execution_count": 7,
     "metadata": {},
     "output_type": "execute_result"
    }
   ],
   "source": [
    "first = [\"one\", \"two\", \"three\"]\n",
    "second = [\"four\", \"five\", \"six\"]\n",
    "third = [\"seven\", \"eight\", \"nine\"]\n",
    "\n",
    "all = first + third + second\n",
    "all"
   ]
  },
  {
   "cell_type": "code",
   "execution_count": 8,
   "metadata": {
    "colab": {
     "base_uri": "https://localhost:8080/",
     "height": 176
    },
    "id": "Z0z7jcKAFTzv",
    "outputId": "1deb8d7f-5a62-4f61-fc9c-3716ccd687c3"
   },
   "outputs": [
    {
     "ename": "TypeError",
     "evalue": "unsupported operand type(s) for -: 'list' and 'list'",
     "output_type": "error",
     "traceback": [
      "\u001b[0;31m---------------------------------------------------------------------------\u001b[0m",
      "\u001b[0;31mTypeError\u001b[0m                                 Traceback (most recent call last)",
      "Cell \u001b[0;32mIn[8], line 5\u001b[0m\n\u001b[1;32m      2\u001b[0m list1 \u001b[38;5;241m=\u001b[39m [\u001b[38;5;124m\"\u001b[39m\u001b[38;5;124mOne\u001b[39m\u001b[38;5;124m\"\u001b[39m, \u001b[38;5;124m\"\u001b[39m\u001b[38;5;124mTwo\u001b[39m\u001b[38;5;124m\"\u001b[39m]\n\u001b[1;32m      3\u001b[0m list2 \u001b[38;5;241m=\u001b[39m [\u001b[38;5;124m\"\u001b[39m\u001b[38;5;124mOne\u001b[39m\u001b[38;5;124m\"\u001b[39m]\n\u001b[0;32m----> 5\u001b[0m \u001b[43mlist1\u001b[49m\u001b[43m \u001b[49m\u001b[38;5;241;43m-\u001b[39;49m\u001b[43m \u001b[49m\u001b[43mlist2\u001b[49m\n",
      "\u001b[0;31mTypeError\u001b[0m: unsupported operand type(s) for -: 'list' and 'list'"
     ]
    }
   ],
   "source": [
    "## Subtraction is not supported\n",
    "list1 = [\"One\", \"Two\"]\n",
    "list2 = [\"One\"]\n",
    "\n",
    "list1 - list2"
   ]
  },
  {
   "cell_type": "markdown",
   "metadata": {
    "id": "Fvnw3dcI8e9w"
   },
   "source": [
    "#### **Accessing List Elements**\n",
    "\n",
    "Lists are INDEXED, meaning that each list item is associated with (and uniquely accessible by) a unique integer value.\n",
    "\n",
    "Python lists are 0-indexed, which means that the first item is accessible via 0, the second item via 1, and so on.\n",
    "\n",
    "R people: this will take some adjusting—R is 1-indexed!\n",
    "\n",
    "\n",
    "You can access individual list elements by their index using square bracket notation, such as\n",
    "\n",
    "\n",
    "```\n",
    "list[index]\n",
    "```\n",
    "\n"
   ]
  },
  {
   "cell_type": "code",
   "execution_count": 9,
   "metadata": {
    "id": "-tDMc6N1F1Xf"
   },
   "outputs": [],
   "source": [
    "myList = [1,2,3,4,5]"
   ]
  },
  {
   "cell_type": "code",
   "execution_count": 10,
   "metadata": {
    "colab": {
     "base_uri": "https://localhost:8080/"
    },
    "id": "19pbbxtw8zTF",
    "outputId": "7cfaf0ca-a33e-4731-e38f-8d832e94579b"
   },
   "outputs": [
    {
     "name": "stdout",
     "output_type": "stream",
     "text": [
      "second\n",
      "first\n"
     ]
    }
   ],
   "source": [
    "strings_list = ['first', 'second', 'third', 'fourth', 'fifth']\n",
    "\n",
    "#Accessing the index-one item:\n",
    "print(strings_list[1])\n",
    "\n",
    "#Accessing the true first item (index 0):\n",
    "print(strings_list[0])"
   ]
  },
  {
   "cell_type": "markdown",
   "metadata": {
    "id": "i7LCon_g9Il9"
   },
   "source": [
    "In addition to accessing _single_ list elements, lists can also be **sliced** in order to return multiple, sequential list elements.\n",
    "\n",
    "The syntax for this is:\n",
    "\n",
    "```\n",
    "list[start_index:end_index]\n",
    "```\n",
    "\n",
    "A weird thing to note here is that while the start index **is** included in the items returned, the end index is NOT. As such, list[1:4] would return items 1, 2, and 3 of list, but not item 4."
   ]
  },
  {
   "cell_type": "code",
   "execution_count": 11,
   "metadata": {
    "colab": {
     "base_uri": "https://localhost:8080/"
    },
    "id": "Mcy95SOVRe3o",
    "outputId": "cefe5c63-3b12-4d68-a282-701c693ec13c"
   },
   "outputs": [
    {
     "name": "stdout",
     "output_type": "stream",
     "text": [
      "['first', 'second', 'third', 'fourth']\n"
     ]
    }
   ],
   "source": [
    "#Getting items 0 through 3. Notice that 4 isn't included!\n",
    "strings_list = ['first', 'second', 'third', 'fourth', 'fifth']\n",
    "\n",
    "print(strings_list[0:4])"
   ]
  },
  {
   "cell_type": "markdown",
   "metadata": {
    "id": "CLN-42TERouz"
   },
   "source": [
    "By excluding the number **before** the colon, we can slice from the _start_ up until (but not including) the item after the colon.\n",
    "\n",
    "By excluding the number **after** the colon, we can slice from the number before the colon up until the _last_ item."
   ]
  },
  {
   "cell_type": "code",
   "execution_count": 12,
   "metadata": {
    "colab": {
     "base_uri": "https://localhost:8080/"
    },
    "id": "cmpgAX_YR34Z",
    "outputId": "c67c0fa0-ffd7-499b-d353-290f2e4a9124"
   },
   "outputs": [
    {
     "data": {
      "text/plain": [
       "['first', 'second']"
      ]
     },
     "execution_count": 12,
     "metadata": {},
     "output_type": "execute_result"
    }
   ],
   "source": [
    "#Slicing from the beginning through (not including) index 2\n",
    "strings_list[:2]"
   ]
  },
  {
   "cell_type": "code",
   "execution_count": 13,
   "metadata": {
    "colab": {
     "base_uri": "https://localhost:8080/"
    },
    "id": "pHDI2NW7R_nu",
    "outputId": "c7b47eaf-6a74-42d8-b605-1695d411c5a9"
   },
   "outputs": [
    {
     "data": {
      "text/plain": [
       "['third', 'fourth', 'fifth']"
      ]
     },
     "execution_count": 13,
     "metadata": {},
     "output_type": "execute_result"
    }
   ],
   "source": [
    "#Slicing from index 2 through the last item\n",
    "strings_list[2:]"
   ]
  },
  {
   "cell_type": "markdown",
   "metadata": {
    "id": "lCc1tugKSFBw"
   },
   "source": [
    "Finally, we can also use _negative_ numbers as indices, which will start counting from the back of the list and move towards the front."
   ]
  },
  {
   "cell_type": "code",
   "execution_count": 14,
   "metadata": {
    "colab": {
     "base_uri": "https://localhost:8080/",
     "height": 35
    },
    "id": "icDCwOuzSLCI",
    "outputId": "e3651299-6ec5-4c9e-da4e-4e55cdf9154d"
   },
   "outputs": [
    {
     "data": {
      "text/plain": [
       "'fifth'"
      ]
     },
     "execution_count": 14,
     "metadata": {},
     "output_type": "execute_result"
    }
   ],
   "source": [
    "#Last item\n",
    "strings_list = ['first', 'second', 'third', 'fourth', 'fifth']\n",
    "\n",
    "strings_list[-1]"
   ]
  },
  {
   "cell_type": "code",
   "execution_count": 15,
   "metadata": {
    "colab": {
     "base_uri": "https://localhost:8080/"
    },
    "id": "ujSVFkh-HNtK",
    "outputId": "fecffe90-e3d7-4c78-8f02-044a279e8531"
   },
   "outputs": [
    {
     "data": {
      "text/plain": [
       "['fifth']"
      ]
     },
     "execution_count": 15,
     "metadata": {},
     "output_type": "execute_result"
    }
   ],
   "source": [
    "strings_list = ['first', 'second', 'third', 'fourth', 'fifth']\n",
    "\n",
    "strings_list[-1:]"
   ]
  },
  {
   "cell_type": "markdown",
   "metadata": {
    "id": "K3i-ksixgo5O"
   },
   "source": [
    "In addition to just **accessing** list items this way, we can also **change** them."
   ]
  },
  {
   "cell_type": "code",
   "execution_count": 16,
   "metadata": {
    "colab": {
     "base_uri": "https://localhost:8080/"
    },
    "id": "pMN2XesQgtVe",
    "outputId": "3b262fd9-96a8-428a-eb4c-5e35d0ee5bdf"
   },
   "outputs": [
    {
     "data": {
      "text/plain": [
       "['first', '2nd', 'third']"
      ]
     },
     "execution_count": 16,
     "metadata": {},
     "output_type": "execute_result"
    }
   ],
   "source": [
    "change_list = [\"first\", \"second\", \"third\"]\n",
    "change_list[1] = \"2nd\"\n",
    "change_list"
   ]
  },
  {
   "cell_type": "code",
   "execution_count": 17,
   "metadata": {
    "colab": {
     "base_uri": "https://localhost:8080/"
    },
    "id": "9FzSx94dgy0N",
    "outputId": "de45e3fd-ed8c-4e4b-ef66-0fd647822223"
   },
   "outputs": [
    {
     "data": {
      "text/plain": [
       "['first', '2nd', '3rd', 'fourth', 'fifth', 'sixth']"
      ]
     },
     "execution_count": 17,
     "metadata": {},
     "output_type": "execute_result"
    }
   ],
   "source": [
    "#Changing via slice:\n",
    "change_list_2 = ['first', 'second', 'third', 'fourth', 'fifth', 'sixth']\n",
    "change_list_2[1:3] = [\"2nd\", \"3rd\"]\n",
    "change_list_2"
   ]
  },
  {
   "cell_type": "markdown",
   "metadata": {
    "id": "2X8PohIvSfOX"
   },
   "source": [
    "#### **List Methods**\n",
    "\n",
    "There are several functions built-in to python that allow us to operate on (and return useful information about) lists."
   ]
  },
  {
   "cell_type": "markdown",
   "metadata": {
    "id": "8s5NhGwCSorE"
   },
   "source": [
    "We can **obtain the length** (number of items) of a list with the len() function.\n",
    "\n",
    "Note that this is the same function we used on strings!"
   ]
  },
  {
   "cell_type": "code",
   "execution_count": 18,
   "metadata": {
    "colab": {
     "base_uri": "https://localhost:8080/"
    },
    "id": "pZRTtvCiSwm_",
    "outputId": "c27bb036-4edc-4190-d640-ad8669088d96"
   },
   "outputs": [
    {
     "data": {
      "text/plain": [
       "13"
      ]
     },
     "execution_count": 18,
     "metadata": {},
     "output_type": "execute_result"
    }
   ],
   "source": [
    "#Using len()\n",
    "long_list = [1, 3, 5, 7, 9, 123, 243, 98, 143, 5, 2, 34, 123]\n",
    "\n",
    "len(long_list)"
   ]
  },
  {
   "cell_type": "code",
   "execution_count": 19,
   "metadata": {
    "colab": {
     "base_uri": "https://localhost:8080/"
    },
    "id": "WomYy_FbIHGV",
    "outputId": "05f304fa-5573-464b-c0d1-c4c97e383a24"
   },
   "outputs": [
    {
     "data": {
      "text/plain": [
       "2"
      ]
     },
     "execution_count": 19,
     "metadata": {},
     "output_type": "execute_result"
    }
   ],
   "source": [
    "short_list = [1, 3]\n",
    "\n",
    "len(short_list)"
   ]
  },
  {
   "cell_type": "markdown",
   "metadata": {
    "id": "J2Dk4B_CS605"
   },
   "source": [
    "We can also **append** items to lists. These will (by default) be added to the end of the list."
   ]
  },
  {
   "cell_type": "code",
   "execution_count": 20,
   "metadata": {
    "colab": {
     "base_uri": "https://localhost:8080/"
    },
    "id": "u63LOpPVTCF6",
    "outputId": "a9aeaebf-eca9-4fcc-b0a3-6899b93c752f"
   },
   "outputs": [
    {
     "name": "stdout",
     "output_type": "stream",
     "text": [
      "['the', 'quick', 'brown', 'fox', 'jumped', 'over', 'the', 'lazy', 'dog']\n"
     ]
    }
   ],
   "source": [
    "unfinished_list = ['the', 'quick', 'brown', 'fox', 'jumped', 'over']\n",
    "unfinished_list.append('the')\n",
    "unfinished_list.append('lazy')\n",
    "unfinished_list.append('dog')\n",
    "\n",
    "print(unfinished_list)"
   ]
  },
  {
   "cell_type": "markdown",
   "metadata": {
    "id": "zOSEreR4TSJB"
   },
   "source": [
    "**COMMON ERROR ALERT!!**\n",
    "\n",
    "Notice that the .append(item) function _actually changes_ the list it operates on.\n",
    "\n",
    "This is DIFFERENT from how we make a string uppercase, for example. When we do this:\n",
    "\n",
    "```\n",
    "your_string.upper()\n",
    "```\n",
    "\n",
    "...the original string (your_string) isn't changed. If we want to change your_string, we must **overwrite** it, with\n",
    "\n",
    "```\n",
    "your_string = your_string.upper()\n",
    "```\n",
    "\n",
    "For .append(), all we need to do to _actually change_ our list is:\n",
    "\n",
    "```\n",
    "your_list.append('new_item')\n",
    "```\n",
    "\n",
    "If we instead try to (mistakenly) do\n",
    "\n",
    "```\n",
    "your_list = your_list.append('new_item')\n",
    "```\n",
    "your_list will just be overwritten with an empty value, and you will lose your list."
   ]
  },
  {
   "cell_type": "code",
   "execution_count": 21,
   "metadata": {
    "colab": {
     "base_uri": "https://localhost:8080/"
    },
    "id": "uJkldbARTLbX",
    "outputId": "4dcaa949-d2ca-49fb-e976-af3917008437"
   },
   "outputs": [
    {
     "name": "stdout",
     "output_type": "stream",
     "text": [
      "[1, 2, 3, 4, 5]\n",
      "None\n"
     ]
    }
   ],
   "source": [
    "#Example:\n",
    "your_list = [1, 2, 3, 4]\n",
    "\n",
    "#Correctly adding an item:\n",
    "your_list.append(5)\n",
    "print(your_list)\n",
    "\n",
    "#Incorrectly adding an item:\n",
    "your_list = your_list.append(6)\n",
    "print(your_list)"
   ]
  },
  {
   "cell_type": "markdown",
   "metadata": {
    "id": "wKpItG3Vc7wt"
   },
   "source": [
    "**Removing** items works in a similar way, with the .remove() method."
   ]
  },
  {
   "cell_type": "code",
   "execution_count": 22,
   "metadata": {
    "colab": {
     "base_uri": "https://localhost:8080/"
    },
    "id": "jYTVkWHSc_SR",
    "outputId": "9578e87f-d17d-47ce-c711-68c3ba13a257"
   },
   "outputs": [
    {
     "data": {
      "text/plain": [
       "[1, 2, 4, 5, 6, 7, 'Three']"
      ]
     },
     "execution_count": 22,
     "metadata": {},
     "output_type": "execute_result"
    }
   ],
   "source": [
    "your_list = [1,2,\"Three\",4,5,6,7,\"Three\"]\n",
    "your_list.remove(\"Three\")\n",
    "\n",
    "your_list #Notice, remove changes the array in place!"
   ]
  },
  {
   "cell_type": "code",
   "execution_count": 23,
   "metadata": {
    "colab": {
     "base_uri": "https://localhost:8080/"
    },
    "id": "9BFdwDHPKBje",
    "outputId": "dc157ce5-16fa-42be-d24b-cc4d5871ad27"
   },
   "outputs": [
    {
     "data": {
      "text/plain": [
       "[1, 2, 'Three', 5, 6, 7, 'Three']"
      ]
     },
     "execution_count": 23,
     "metadata": {},
     "output_type": "execute_result"
    }
   ],
   "source": [
    "your_list = [1,2,\"Three\",4,5,6,7,\"Three\"]\n",
    "\n",
    "your_list.pop(3)\n",
    "your_list"
   ]
  },
  {
   "cell_type": "code",
   "execution_count": 24,
   "metadata": {
    "colab": {
     "base_uri": "https://localhost:8080/"
    },
    "id": "sPgAcQEgKM8H",
    "outputId": "5bce47ab-d206-4bcf-a14c-6de162584fff"
   },
   "outputs": [
    {
     "data": {
      "text/plain": [
       "[1, 2, 'Three', 5, 6, 7, 'Three']"
      ]
     },
     "execution_count": 24,
     "metadata": {},
     "output_type": "execute_result"
    }
   ],
   "source": [
    "your_list = [1,2,\"Three\",4,5,6,7,\"Three\"]\n",
    "\n",
    "del your_list[3]\n",
    "your_list"
   ]
  },
  {
   "cell_type": "markdown",
   "metadata": {
    "id": "ooIMFth2d1dz"
   },
   "source": [
    "Generating numerical lists with the **range** function.\n",
    "\n",
    " (This will become especially useful later in helping us loop through datasets!)\n",
    "\n",
    "With the ``` range() ``` function, we can generate a range of numbers, that can then be cast to a list via the ```list()``` method.\n",
    "\n",
    "The syntax for range is: ```range(start, stop, skip)``` , seen below.\n"
   ]
  },
  {
   "cell_type": "code",
   "execution_count": 25,
   "metadata": {
    "colab": {
     "base_uri": "https://localhost:8080/"
    },
    "id": "Yr-3x3TOe-TV",
    "outputId": "74760186-9efc-4222-e89f-e4d173458d67"
   },
   "outputs": [
    {
     "name": "stdout",
     "output_type": "stream",
     "text": [
      "range(0, 10)\n"
     ]
    },
    {
     "data": {
      "text/plain": [
       "range"
      ]
     },
     "execution_count": 25,
     "metadata": {},
     "output_type": "execute_result"
    }
   ],
   "source": [
    "#This will give us a range of the numbers 0 through 9, not including 10\n",
    "print(range(0,10))\n",
    "type(range(0, 10))"
   ]
  },
  {
   "cell_type": "code",
   "execution_count": 26,
   "metadata": {
    "colab": {
     "base_uri": "https://localhost:8080/"
    },
    "id": "6oWBvw_sca2L",
    "outputId": "7f537c5d-7387-4f3f-ac56-a6a2f6ca2420"
   },
   "outputs": [
    {
     "data": {
      "text/plain": [
       "[0, 1, 2, 3, 4, 5, 6, 7, 8, 9]"
      ]
     },
     "execution_count": 26,
     "metadata": {},
     "output_type": "execute_result"
    }
   ],
   "source": [
    "list(range(0, 10))"
   ]
  },
  {
   "cell_type": "code",
   "execution_count": 27,
   "metadata": {
    "colab": {
     "base_uri": "https://localhost:8080/"
    },
    "id": "D0qcAPOdJbVK",
    "outputId": "e6d4f274-1fa4-41b4-edc1-ff3aba8b27b9"
   },
   "outputs": [
    {
     "data": {
      "text/plain": [
       "[0, 7, 14, 21, 28, 35, 42, 49]"
      ]
     },
     "execution_count": 27,
     "metadata": {},
     "output_type": "execute_result"
    }
   ],
   "source": [
    "list(range(0, 50, 7))"
   ]
  },
  {
   "cell_type": "code",
   "execution_count": 28,
   "metadata": {
    "colab": {
     "base_uri": "https://localhost:8080/"
    },
    "id": "mqBbBNA0gFiw",
    "outputId": "3e74f5c9-cb5b-41bd-bb21-2d9c58315fd4"
   },
   "outputs": [
    {
     "name": "stdout",
     "output_type": "stream",
     "text": [
      "[0, 1, 2, 3, 4, 5, 6, 7, 8, 9]\n",
      "<class 'list'>\n"
     ]
    }
   ],
   "source": [
    "#We can cast it to a list!\n",
    "print(list(range(0,10)))\n",
    "print(type(list(range(0,10))))"
   ]
  },
  {
   "cell_type": "markdown",
   "metadata": {
    "id": "vlRjVVHngNRP"
   },
   "source": [
    "We can also use the third (optional) \"skip\" parameter to choose how much space is between each range item."
   ]
  },
  {
   "cell_type": "code",
   "execution_count": 29,
   "metadata": {
    "colab": {
     "base_uri": "https://localhost:8080/"
    },
    "id": "0C9FT4Y3gSUM",
    "outputId": "122d7bd8-f7f3-4510-aa25-8bf720e2e615"
   },
   "outputs": [
    {
     "data": {
      "text/plain": [
       "[0, 3, 6, 9, 12, 15, 18, 21, 24, 27]"
      ]
     },
     "execution_count": 29,
     "metadata": {},
     "output_type": "execute_result"
    }
   ],
   "source": [
    "list(range(0, 30, 3))"
   ]
  },
  {
   "cell_type": "markdown",
   "metadata": {
    "id": "peIvykeq4Qea"
   },
   "source": [
    "## B: Dictionaries\n",
    "\n",
    "Dictionaries are another hugely important structure for effectively storing and analyzing data in python.\n",
    "\n",
    "They are **similar** to lists in a few key ways.\n",
    "- Both are MUTABLE — meaning that once you've created them, you can change individual values later. We did this in lists, with changing ```list[0] = 'new value'```\n",
    "- Both are **dynamic** - elements can be added and removed after creation. We showed this with list.remove() and list.append().\n",
    "\n",
    "But dictionaries have a few key **differences** from lists, as well.\n",
    "- They are not indexed like lists! They are _unordered_. It doesn't make sense to discuss the \"first\" item of a dictionary. There is no first, and no last item.\n",
    "- Instead, dictionaries are a collection of associated **key-value pairs**.\n",
    "\n",
    "Let's explore this below."
   ]
  },
  {
   "cell_type": "markdown",
   "metadata": {
    "id": "gqy37LhQvbkA"
   },
   "source": [
    "#### **Creating a Dictionary**.\n",
    "\n",
    "Like lists, dictionaries have their own special syntax that tells the python interpreter that a certain variable should be stored as a dictionary type.\n",
    "\n",
    "For dictionaries, this syntax is a series of **key:value pairs**, separated by commas, within curly braces {}.\n",
    "\n",
    "The following is a dictionary mapping UVA departmental abbreviations to their full names (at least, according to lou's list.)"
   ]
  },
  {
   "cell_type": "code",
   "execution_count": 30,
   "metadata": {
    "colab": {
     "base_uri": "https://localhost:8080/"
    },
    "id": "zFp2GOFb4R1_",
    "outputId": "aa18702b-107b-492f-9ecd-fdf50d3e7871"
   },
   "outputs": [
    {
     "data": {
      "text/plain": [
       "dict"
      ]
     },
     "execution_count": 30,
     "metadata": {},
     "output_type": "execute_result"
    }
   ],
   "source": [
    "my_first_dict = {\n",
    "    'AAS':'African-American and African Studies',\n",
    "    'AMST':'American Studies',\n",
    "    'ANTH':'Anthropology',\n",
    "    'ARTH':'History of Art',\n",
    "    'ASTR':'Astronomy',\n",
    "    'BIOL':'Biology'\n",
    "}\n",
    "\n",
    "type(my_first_dict)"
   ]
  },
  {
   "cell_type": "markdown",
   "metadata": {
    "id": "8BIYFXD6yssV"
   },
   "source": [
    "As discussed, dictionary's don't have an order. We can access values by their keys, in quotes inside square brackets..."
   ]
  },
  {
   "cell_type": "code",
   "execution_count": 31,
   "metadata": {
    "colab": {
     "base_uri": "https://localhost:8080/",
     "height": 35
    },
    "id": "AIqdjK5cyxce",
    "outputId": "d131406a-d002-44d7-b2a3-cf0bc74997c2"
   },
   "outputs": [
    {
     "data": {
      "text/plain": [
       "'African-American and African Studies'"
      ]
     },
     "execution_count": 31,
     "metadata": {},
     "output_type": "execute_result"
    }
   ],
   "source": [
    "my_first_dict['AAS']"
   ]
  },
  {
   "cell_type": "markdown",
   "metadata": {
    "id": "jnzokZNoy1gU"
   },
   "source": [
    "But unless we have a 0:<something> key-value pair in our dictionary, we can't look for the first item (or any other ordered item) with dict[0] or dict[3] etc."
   ]
  },
  {
   "cell_type": "code",
   "execution_count": 32,
   "metadata": {
    "colab": {
     "base_uri": "https://localhost:8080/",
     "height": 159
    },
    "id": "sNsOVjHdy43_",
    "outputId": "13a4d31a-f52a-4e39-c1f7-9b31c4c3d32e"
   },
   "outputs": [
    {
     "ename": "KeyError",
     "evalue": "3",
     "output_type": "error",
     "traceback": [
      "\u001b[0;31m---------------------------------------------------------------------------\u001b[0m",
      "\u001b[0;31mKeyError\u001b[0m                                  Traceback (most recent call last)",
      "Cell \u001b[0;32mIn[32], line 2\u001b[0m\n\u001b[1;32m      1\u001b[0m \u001b[38;5;66;03m#This doesn't work!\u001b[39;00m\n\u001b[0;32m----> 2\u001b[0m \u001b[43mmy_first_dict\u001b[49m\u001b[43m[\u001b[49m\u001b[38;5;241;43m3\u001b[39;49m\u001b[43m]\u001b[49m\n",
      "\u001b[0;31mKeyError\u001b[0m: 3"
     ]
    }
   ],
   "source": [
    "#This doesn't work!\n",
    "my_first_dict[3]"
   ]
  },
  {
   "cell_type": "markdown",
   "metadata": {
    "id": "8hOlImCMzHQT"
   },
   "source": [
    "We can add entires (key:value pairs) to an already-existing dictionary through the following syntax:\n",
    "\n",
    "```\n",
    "dict['new_key'] = 'new_value'\n",
    "```"
   ]
  },
  {
   "cell_type": "code",
   "execution_count": 33,
   "metadata": {
    "colab": {
     "base_uri": "https://localhost:8080/"
    },
    "id": "V5MZVhVtzR_P",
    "outputId": "b91954f9-14ef-4432-e624-f67a27f6eba8"
   },
   "outputs": [
    {
     "data": {
      "text/plain": [
       "{'AAS': 'African-American and African Studies',\n",
       " 'AMST': 'American Studies',\n",
       " 'ANTH': 'Anthropology',\n",
       " 'ARTH': 'History of Art',\n",
       " 'ASTR': 'Astronomy',\n",
       " 'BIOL': 'Biology',\n",
       " 'CHEM': 'Chemistry'}"
      ]
     },
     "execution_count": 33,
     "metadata": {},
     "output_type": "execute_result"
    }
   ],
   "source": [
    "#Adding an additional department:\n",
    "my_first_dict['CHEM'] = 'Chemistry'\n",
    "\n",
    "#Seeing that our changes worked:\n",
    "my_first_dict"
   ]
  },
  {
   "cell_type": "markdown",
   "metadata": {
    "id": "GJVOfja7zhFm"
   },
   "source": [
    "Likewise, we can **remove** an item with the \"del\" keyword."
   ]
  },
  {
   "cell_type": "code",
   "execution_count": 34,
   "metadata": {
    "colab": {
     "base_uri": "https://localhost:8080/"
    },
    "id": "H1xzWER4zkzy",
    "outputId": "984c637c-5fe0-4c5e-a52f-bd36c09e34a1"
   },
   "outputs": [
    {
     "data": {
      "text/plain": [
       "{'AAS': 'African-American and African Studies',\n",
       " 'AMST': 'American Studies',\n",
       " 'ANTH': 'Anthropology',\n",
       " 'ASTR': 'Astronomy',\n",
       " 'BIOL': 'Biology',\n",
       " 'CHEM': 'Chemistry'}"
      ]
     },
     "execution_count": 34,
     "metadata": {},
     "output_type": "execute_result"
    }
   ],
   "source": [
    "#Delete art history entry:\n",
    "del my_first_dict['ARTH']\n",
    "\n",
    "my_first_dict"
   ]
  },
  {
   "cell_type": "markdown",
   "metadata": {
    "id": "QWaFqgumxico"
   },
   "source": [
    "Dictionaries serve as a sort of \"lookup table,\" or a \"function,\" storing an informative value for each key.\n",
    "\n",
    "In this spirit, dictionary **keys** must be unique, but their **values** don't have to be.\n",
    "\n"
   ]
  },
  {
   "cell_type": "code",
   "execution_count": 35,
   "metadata": {
    "id": "K1MuUYMJyHm4"
   },
   "outputs": [],
   "source": [
    "my_duplicate_dict = {\n",
    "    'AAS':'African-American and African Studies',\n",
    "    'AMST':'American Studies',\n",
    "    'ANTH':'Anthropology',\n",
    "    'ARTH':'History of Art',\n",
    "    'ASTR':'Astronomy',\n",
    "    'BIOL':'Biololioliology',\n",
    "    'BIOL':'Biology'\n",
    "\n",
    "}"
   ]
  },
  {
   "cell_type": "code",
   "execution_count": 36,
   "metadata": {
    "colab": {
     "base_uri": "https://localhost:8080/",
     "height": 35
    },
    "id": "iSNyKrTuyO8X",
    "outputId": "0c1bfcb1-e510-472c-b00d-794736005aa7"
   },
   "outputs": [
    {
     "data": {
      "text/plain": [
       "'Biology'"
      ]
     },
     "execution_count": 36,
     "metadata": {},
     "output_type": "execute_result"
    }
   ],
   "source": [
    "#Notice: Biology isn't returned. the information is lost here!\n",
    "my_duplicate_dict['BIOL']"
   ]
  },
  {
   "cell_type": "markdown",
   "metadata": {
    "id": "wNAw_8R-yg5q"
   },
   "source": [
    "If you wanted to store two values (Biology and Biololioliology) with the key 'BIOL', perhaps to indicate that 'BIOL' corresponds to two departments, you could use a **list** as the value for 'BIOL'."
   ]
  },
  {
   "cell_type": "code",
   "execution_count": 37,
   "metadata": {
    "id": "wMS9uXTVzyiA"
   },
   "outputs": [],
   "source": [
    "more_informative_dict = {\n",
    "    'AAS':'African-American and African Studies',\n",
    "    'AMST':'American Studies',\n",
    "    'ANTH':'Anthropology',\n",
    "    'ARTH':'History of Art',\n",
    "    'ASTR':'Astronomy',\n",
    "    'BIOL':['Biology','Biololioliology'] # A tiny list here!\n",
    "}"
   ]
  },
  {
   "cell_type": "code",
   "execution_count": 38,
   "metadata": {
    "colab": {
     "base_uri": "https://localhost:8080/",
     "height": 35
    },
    "id": "JcFX7tWgz8IC",
    "outputId": "4cd010df-8ef2-4384-ac38-844fdbd08706"
   },
   "outputs": [
    {
     "data": {
      "text/plain": [
       "'Biololioliology'"
      ]
     },
     "execution_count": 38,
     "metadata": {},
     "output_type": "execute_result"
    }
   ],
   "source": [
    "#This allows us to retain information on both definitions of BIOL.\n",
    "more_informative_dict['BIOL'][1]"
   ]
  },
  {
   "cell_type": "markdown",
   "metadata": {
    "id": "3p-lb0Nq0GNa"
   },
   "source": [
    "**Dict keys can be any of the primitive datatypes we talked about**.\n",
    "- Bool\n",
    "- Float\n",
    "- Int\n",
    "- String\n",
    "\n",
    "...but they can't be the more complex, _mutable_ dataypes we're discussing now, like lists or dictionaries."
   ]
  },
  {
   "cell_type": "code",
   "execution_count": 39,
   "metadata": {
    "id": "PhRBgpRx0Vfa"
   },
   "outputs": [],
   "source": [
    "#This is all fair game:\n",
    "varied = {\n",
    "    'string':135,\n",
    "    0:True,\n",
    "    True:False\n",
    "}"
   ]
  },
  {
   "cell_type": "code",
   "execution_count": 40,
   "metadata": {
    "colab": {
     "base_uri": "https://localhost:8080/"
    },
    "id": "LtuctA75Rte3",
    "outputId": "fa975e53-24ae-4f5f-c2f6-fe1e37e0a5e8"
   },
   "outputs": [
    {
     "data": {
      "text/plain": [
       "True"
      ]
     },
     "execution_count": 40,
     "metadata": {},
     "output_type": "execute_result"
    }
   ],
   "source": [
    "varied[0]"
   ]
  },
  {
   "cell_type": "code",
   "execution_count": 41,
   "metadata": {
    "colab": {
     "base_uri": "https://localhost:8080/",
     "height": 211
    },
    "id": "KRThwS6m0dqK",
    "outputId": "63cec8bc-22ff-444f-de86-f0be5487c958"
   },
   "outputs": [
    {
     "ename": "TypeError",
     "evalue": "unhashable type: 'list'",
     "output_type": "error",
     "traceback": [
      "\u001b[0;31m---------------------------------------------------------------------------\u001b[0m",
      "\u001b[0;31mTypeError\u001b[0m                                 Traceback (most recent call last)",
      "Cell \u001b[0;32mIn[41], line 2\u001b[0m\n\u001b[1;32m      1\u001b[0m \u001b[38;5;66;03m#But this is not:\u001b[39;00m\n\u001b[0;32m----> 2\u001b[0m varied_bad \u001b[38;5;241m=\u001b[39m {\n\u001b[1;32m      3\u001b[0m     [\u001b[38;5;124m\"\u001b[39m\u001b[38;5;124mlist\u001b[39m\u001b[38;5;124m\"\u001b[39m, \u001b[38;5;124m\"\u001b[39m\u001b[38;5;124mas\u001b[39m\u001b[38;5;124m\"\u001b[39m, \u001b[38;5;124m\"\u001b[39m\u001b[38;5;124ma\u001b[39m\u001b[38;5;124m\"\u001b[39m, \u001b[38;5;124m\"\u001b[39m\u001b[38;5;124mkey?\u001b[39m\u001b[38;5;124m\"\u001b[39m]:\u001b[38;5;124m\"\u001b[39m\u001b[38;5;124mNOPE\u001b[39m\u001b[38;5;124m\"\u001b[39m,\n\u001b[1;32m      4\u001b[0m     {\u001b[38;5;124m\"\u001b[39m\u001b[38;5;124mdict\u001b[39m\u001b[38;5;124m\"\u001b[39m:\u001b[38;5;124m\"\u001b[39m\u001b[38;5;124mkey?\u001b[39m\u001b[38;5;124m\"\u001b[39m, \u001b[38;5;124m\"\u001b[39m\u001b[38;5;124mnoooope\u001b[39m\u001b[38;5;124m\"\u001b[39m:\u001b[38;5;124m\"\u001b[39m\u001b[38;5;124mno\u001b[39m\u001b[38;5;124m\"\u001b[39m}:\u001b[38;5;124m\"\u001b[39m\u001b[38;5;124mSTOP\u001b[39m\u001b[38;5;124m\"\u001b[39m\n\u001b[1;32m      5\u001b[0m }\n",
      "\u001b[0;31mTypeError\u001b[0m: unhashable type: 'list'"
     ]
    }
   ],
   "source": [
    "#But this is not:\n",
    "varied_bad = {\n",
    "    [\"list\", \"as\", \"a\", \"key?\"]:\"NOPE\",\n",
    "    {\"dict\":\"key?\", \"noooope\":\"no\"}:\"STOP\"\n",
    "}"
   ]
  },
  {
   "cell_type": "markdown",
   "metadata": {
    "id": "GSVv2w1m04tz"
   },
   "source": [
    "#### **Lists from dictionaries**\n",
    "\n",
    "The dictionary type in python gives us several methods to return certain interesting parts of dictionaries as lists."
   ]
  },
  {
   "cell_type": "markdown",
   "metadata": {
    "id": "QEv--7-_1Js6"
   },
   "source": [
    "``` your_dict.keys() ``` returns all the keys as type \"dict_keys\", which can easily be made into a list through ```list()```"
   ]
  },
  {
   "cell_type": "code",
   "execution_count": 42,
   "metadata": {
    "colab": {
     "base_uri": "https://localhost:8080/"
    },
    "id": "HVEqONTZ1BCM",
    "outputId": "217767c5-377e-4e8e-c9d3-22ebd75f9098"
   },
   "outputs": [
    {
     "name": "stdout",
     "output_type": "stream",
     "text": [
      "dict_keys(['AAS', 'AMST', 'ANTH', 'ASTR', 'BIOL', 'CHEM'])\n",
      "<class 'dict_keys'>\n",
      "With list() wrapper: ['AAS', 'AMST', 'ANTH', 'ASTR', 'BIOL', 'CHEM']\n"
     ]
    }
   ],
   "source": [
    "print(my_first_dict.keys())\n",
    "print(type(my_first_dict.keys()))\n",
    "print(\"With list() wrapper:\",list(my_first_dict.keys()))"
   ]
  },
  {
   "cell_type": "markdown",
   "metadata": {
    "id": "lEmjX2oD1gE-"
   },
   "source": [
    "A similar function exists ( ```dict.values()```) to extract only the values."
   ]
  },
  {
   "cell_type": "code",
   "execution_count": 43,
   "metadata": {
    "colab": {
     "base_uri": "https://localhost:8080/"
    },
    "id": "6Q9waX4r1kyh",
    "outputId": "4689b3a0-02cc-4a74-f7ea-3c4fee96b98c"
   },
   "outputs": [
    {
     "name": "stdout",
     "output_type": "stream",
     "text": [
      "dict_values(['African-American and African Studies', 'American Studies', 'Anthropology', 'Astronomy', 'Biology', 'Chemistry'])\n",
      "With list() wrapper: ['African-American and African Studies', 'American Studies', 'Anthropology', 'Astronomy', 'Biology', 'Chemistry']\n"
     ]
    }
   ],
   "source": [
    "print(my_first_dict.values())\n",
    "print(\"With list() wrapper:\", list(my_first_dict.values()))"
   ]
  },
  {
   "cell_type": "markdown",
   "metadata": {
    "id": "ZU5TUt4m1uPO"
   },
   "source": [
    "And if you want both, you can use ```dict.items()```, which will give you a list of key-value pairs.\n",
    "\n",
    "The key-value pairs are returned as ```tuples```, which we'll learn about in a future lesson."
   ]
  },
  {
   "cell_type": "code",
   "execution_count": 44,
   "metadata": {
    "colab": {
     "base_uri": "https://localhost:8080/"
    },
    "id": "pYwuBbhV11cb",
    "outputId": "a123221a-11f2-422d-88fa-6fb3d02f37a7"
   },
   "outputs": [
    {
     "data": {
      "text/plain": [
       "('AAS', 'African-American and African Studies')"
      ]
     },
     "execution_count": 44,
     "metadata": {},
     "output_type": "execute_result"
    }
   ],
   "source": [
    "list(my_first_dict.items())[0]"
   ]
  },
  {
   "cell_type": "markdown",
   "metadata": {
    "id": "vvdvScw5g4mf"
   },
   "source": [
    "## C: Sets\n",
    "Sets are unordered collections of unique elements. They are ideal for membership testing and eliminating duplicates."
   ]
  },
  {
   "cell_type": "code",
   "execution_count": 45,
   "metadata": {
    "id": "CGGl1V6dhQNL"
   },
   "outputs": [
    {
     "name": "stdout",
     "output_type": "stream",
     "text": [
      "Original Set (duplicates not shown): {1, 2, 3, 4, 5}\n"
     ]
    }
   ],
   "source": [
    "# Creating a set\n",
    "example_set = {1, 2, 3, 4, 5, 5}\n",
    "print(\"Original Set (duplicates not shown):\", example_set)"
   ]
  },
  {
   "cell_type": "code",
   "execution_count": 46,
   "metadata": {
    "id": "DZTm49bdheil"
   },
   "outputs": [
    {
     "name": "stdout",
     "output_type": "stream",
     "text": [
      "After adding 6: {1, 2, 3, 4, 5, 6}\n"
     ]
    }
   ],
   "source": [
    "# Adding elements\n",
    "example_set.add(6)\n",
    "print(\"After adding 6:\", example_set)"
   ]
  },
  {
   "cell_type": "code",
   "execution_count": 47,
   "metadata": {
    "id": "7ke5dMqyhfzW"
   },
   "outputs": [
    {
     "name": "stdout",
     "output_type": "stream",
     "text": [
      "After discarding 4: {1, 2, 3, 5, 6}\n"
     ]
    }
   ],
   "source": [
    "# Removing elements\n",
    "example_set.discard(4)  # Removes 4 from the set\n",
    "print(\"After discarding 4:\", example_set)"
   ]
  },
  {
   "cell_type": "markdown",
   "metadata": {
    "id": "SiNrvNm8hQjz"
   },
   "source": [
    "## D: NumPy Arrays\n",
    "NumPy arrays are similar to Python lists but are optimized for numerical operations and scientific computing."
   ]
  },
  {
   "cell_type": "code",
   "execution_count": 3,
   "metadata": {
    "id": "yCIPuwsthV_f"
   },
   "outputs": [],
   "source": [
    "import numpy as np"
   ]
  },
  {
   "cell_type": "code",
   "execution_count": 49,
   "metadata": {
    "colab": {
     "base_uri": "https://localhost:8080/"
    },
    "id": "VTSp857fg4MT",
    "outputId": "ec19a3a2-57f3-48d2-e176-22fb980e5617"
   },
   "outputs": [
    {
     "name": "stdout",
     "output_type": "stream",
     "text": [
      "NumPy Array: [1 2 3 4 5]\n"
     ]
    }
   ],
   "source": [
    "np_array = np.array([1, 2, 3, 4, 5])\n",
    "print(\"NumPy Array:\", np_array)"
   ]
  },
  {
   "cell_type": "markdown",
   "metadata": {
    "id": "8XZ3_zN4h0hw"
   },
   "source": [
    "### Elementwise operations"
   ]
  },
  {
   "cell_type": "code",
   "execution_count": 4,
   "metadata": {
    "id": "H_879ztwh2-8"
   },
   "outputs": [],
   "source": [
    "normal_list = [1, 2, 3, 4, 5]\n",
    "np_array = np.array(normal_list)"
   ]
  },
  {
   "cell_type": "code",
   "execution_count": 5,
   "metadata": {
    "colab": {
     "base_uri": "https://localhost:8080/"
    },
    "id": "Ea6-t7zMhynA",
    "outputId": "7c998695-eebb-49b0-d11e-e6712cd670b0"
   },
   "outputs": [
    {
     "name": "stdout",
     "output_type": "stream",
     "text": [
      "Array multiplied by 2: [ 2  4  6  8 10]\n"
     ]
    }
   ],
   "source": [
    "print(\"Array multiplied by 2:\", np_array * 2)"
   ]
  },
  {
   "cell_type": "code",
   "execution_count": null,
   "metadata": {
    "colab": {
     "base_uri": "https://localhost:8080/"
    },
    "id": "8k45WNTrh-nx",
    "outputId": "43325e65-dfb3-4c84-9735-2209115d1b8f"
   },
   "outputs": [],
   "source": [
    "print(\"List multiplied by 2:\", normal_list * 2)"
   ]
  },
  {
   "cell_type": "markdown",
   "metadata": {
    "id": "CSuluthKiZju"
   },
   "source": [
    "### Array Operations"
   ]
  },
  {
   "cell_type": "code",
   "execution_count": 6,
   "metadata": {
    "id": "wCvUJKW_s8dR"
   },
   "outputs": [],
   "source": [
    "list1 = [\"Strings\" , \"More Strings\" , \"Even more strings\"]\n",
    "list2 = [1, 2, 3, 4, 5]\n",
    "list3 = [6, 7, 8, 9, 0]"
   ]
  },
  {
   "cell_type": "code",
   "execution_count": 7,
   "metadata": {
    "id": "oqB4uCPKtkJG"
   },
   "outputs": [],
   "source": [
    "array1 = np.array([1, 2, 3, 4, 5])\n",
    "array2 = np.array([6, 7, 8, 9, 0])\n",
    "array3 = np.array([-1, -2, -3])\n",
    "array4 = np.array([\"string1\" , \"string2\" , \"string3\" , \"string4\" , \"string5\"])"
   ]
  },
  {
   "cell_type": "code",
   "execution_count": 52,
   "metadata": {
    "colab": {
     "base_uri": "https://localhost:8080/"
    },
    "id": "HVBwO2NyuhVM",
    "outputId": "ff526eb2-7b4b-4445-cc79-95121113afe5"
   },
   "outputs": [
    {
     "data": {
      "text/plain": [
       "['Strings', 'More Strings', 'Even more strings', 1, 2, 3, 4, 5]"
      ]
     },
     "execution_count": 52,
     "metadata": {},
     "output_type": "execute_result"
    }
   ],
   "source": [
    "list1 + list2"
   ]
  },
  {
   "cell_type": "code",
   "execution_count": 53,
   "metadata": {
    "colab": {
     "base_uri": "https://localhost:8080/"
    },
    "id": "Hhrh2TW7u2U6",
    "outputId": "8e0fb8c8-5daa-4d7a-be2c-0ab4097eb932"
   },
   "outputs": [
    {
     "data": {
      "text/plain": [
       "array([ 7,  9, 11, 13,  5])"
      ]
     },
     "execution_count": 53,
     "metadata": {},
     "output_type": "execute_result"
    }
   ],
   "source": [
    "array1 + array2"
   ]
  },
  {
   "cell_type": "code",
   "execution_count": 8,
   "metadata": {
    "colab": {
     "base_uri": "https://localhost:8080/",
     "height": 163
    },
    "id": "2mcSxnRmvHl7",
    "outputId": "a6c26a5d-e6d3-42be-de7d-c4af0d887947"
   },
   "outputs": [
    {
     "ename": "ValueError",
     "evalue": "operands could not be broadcast together with shapes (5,) (3,) ",
     "output_type": "error",
     "traceback": [
      "\u001b[1;31m---------------------------------------------------------------------------\u001b[0m",
      "\u001b[1;31mValueError\u001b[0m                                Traceback (most recent call last)",
      "Cell \u001b[1;32mIn[8], line 2\u001b[0m\n\u001b[0;32m      1\u001b[0m \u001b[38;5;66;03m# Shapes don't match!\u001b[39;00m\n\u001b[1;32m----> 2\u001b[0m array1 \u001b[38;5;241m+\u001b[39m array3\n",
      "\u001b[1;31mValueError\u001b[0m: operands could not be broadcast together with shapes (5,) (3,) "
     ]
    }
   ],
   "source": [
    "# Shapes don't match!\n",
    "array1 + array3"
   ]
  },
  {
   "cell_type": "code",
   "execution_count": 55,
   "metadata": {
    "colab": {
     "base_uri": "https://localhost:8080/",
     "height": 163
    },
    "id": "yTyyuni-verX",
    "outputId": "08108d29-850b-4237-f8f2-29720532dc71"
   },
   "outputs": [
    {
     "ename": "UFuncTypeError",
     "evalue": "ufunc 'add' did not contain a loop with signature matching types (dtype('int64'), dtype('<U7')) -> None",
     "output_type": "error",
     "traceback": [
      "\u001b[0;31m---------------------------------------------------------------------------\u001b[0m",
      "\u001b[0;31mUFuncTypeError\u001b[0m                            Traceback (most recent call last)",
      "Cell \u001b[0;32mIn[55], line 2\u001b[0m\n\u001b[1;32m      1\u001b[0m \u001b[38;5;66;03m# Types don't match!\u001b[39;00m\n\u001b[0;32m----> 2\u001b[0m \u001b[43marray1\u001b[49m\u001b[43m \u001b[49m\u001b[38;5;241;43m+\u001b[39;49m\u001b[43m \u001b[49m\u001b[43marray4\u001b[49m\n",
      "\u001b[0;31mUFuncTypeError\u001b[0m: ufunc 'add' did not contain a loop with signature matching types (dtype('int64'), dtype('<U7')) -> None"
     ]
    }
   ],
   "source": [
    "# Types don't match!\n",
    "array1 + array4"
   ]
  },
  {
   "cell_type": "code",
   "execution_count": 56,
   "metadata": {
    "colab": {
     "base_uri": "https://localhost:8080/"
    },
    "id": "mhbFxz2pi-z9",
    "outputId": "2a4d3bab-fec0-4e62-a688-a1b04be50c41"
   },
   "outputs": [
    {
     "data": {
      "text/plain": [
       "['Strings',\n",
       " 'More Strings',\n",
       " 'Even more strings',\n",
       " 'Strings',\n",
       " 'More Strings',\n",
       " 'Even more strings']"
      ]
     },
     "execution_count": 56,
     "metadata": {},
     "output_type": "execute_result"
    }
   ],
   "source": [
    "# Adding lists do not numerically add elements, they just concatenate them!\n",
    "list1 + list1"
   ]
  },
  {
   "cell_type": "code",
   "execution_count": 57,
   "metadata": {
    "colab": {
     "base_uri": "https://localhost:8080/",
     "height": 163
    },
    "id": "K041WQE2wKJn",
    "outputId": "9aceff22-7e03-40ae-abd0-85e5a747a31c"
   },
   "outputs": [
    {
     "ename": "UFuncTypeError",
     "evalue": "ufunc 'add' did not contain a loop with signature matching types (dtype('<U7'), dtype('<U7')) -> None",
     "output_type": "error",
     "traceback": [
      "\u001b[0;31m---------------------------------------------------------------------------\u001b[0m",
      "\u001b[0;31mUFuncTypeError\u001b[0m                            Traceback (most recent call last)",
      "Cell \u001b[0;32mIn[57], line 2\u001b[0m\n\u001b[1;32m      1\u001b[0m \u001b[38;5;66;03m# Strings can't \"numerically\" be added!\u001b[39;00m\n\u001b[0;32m----> 2\u001b[0m \u001b[43marray4\u001b[49m\u001b[43m \u001b[49m\u001b[38;5;241;43m+\u001b[39;49m\u001b[43m \u001b[49m\u001b[43marray4\u001b[49m\n",
      "\u001b[0;31mUFuncTypeError\u001b[0m: ufunc 'add' did not contain a loop with signature matching types (dtype('<U7'), dtype('<U7')) -> None"
     ]
    }
   ],
   "source": [
    "# Strings can't \"numerically\" be added!\n",
    "array4 + array4"
   ]
  },
  {
   "cell_type": "code",
   "execution_count": 58,
   "metadata": {
    "colab": {
     "base_uri": "https://localhost:8080/"
    },
    "id": "8I67sQrIwcx0",
    "outputId": "92a2617b-88b2-4d61-ff8a-9bd80ded6dc9"
   },
   "outputs": [
    {
     "data": {
      "text/plain": [
       "array([ 6, 14, 24, 36,  0])"
      ]
     },
     "execution_count": 58,
     "metadata": {},
     "output_type": "execute_result"
    }
   ],
   "source": [
    "np.multiply(array1, array2)"
   ]
  },
  {
   "cell_type": "code",
   "execution_count": 59,
   "metadata": {
    "colab": {
     "base_uri": "https://localhost:8080/"
    },
    "id": "RMmmLbSQw41c",
    "outputId": "ff1e2e4e-b7cf-4a59-e73c-31f665701979"
   },
   "outputs": [
    {
     "data": {
      "text/plain": [
       "120"
      ]
     },
     "execution_count": 59,
     "metadata": {},
     "output_type": "execute_result"
    }
   ],
   "source": [
    "np.prod(array1)"
   ]
  },
  {
   "cell_type": "code",
   "execution_count": 60,
   "metadata": {
    "colab": {
     "base_uri": "https://localhost:8080/"
    },
    "id": "yyQkpX-vxANC",
    "outputId": "d0c317d1-f10c-47e3-ccdc-98c555924126"
   },
   "outputs": [
    {
     "data": {
      "text/plain": [
       "array([ 6, 14, 24, 36,  0])"
      ]
     },
     "execution_count": 60,
     "metadata": {},
     "output_type": "execute_result"
    }
   ],
   "source": [
    "array1*array2"
   ]
  },
  {
   "cell_type": "markdown",
   "metadata": {
    "id": "mWBport-iAix"
   },
   "source": [
    "### NumPy Functions"
   ]
  },
  {
   "cell_type": "code",
   "execution_count": 61,
   "metadata": {
    "colab": {
     "base_uri": "https://localhost:8080/"
    },
    "id": "oZ6okW7Yg5aA",
    "outputId": "9c2253a7-19c6-4af0-f63d-a821150a48f6"
   },
   "outputs": [
    {
     "name": "stdout",
     "output_type": "stream",
     "text": [
      "Mean of the array: 3.0\n"
     ]
    }
   ],
   "source": [
    "print(\"Mean of the array:\", np.mean(np_array))"
   ]
  },
  {
   "cell_type": "code",
   "execution_count": 62,
   "metadata": {
    "colab": {
     "base_uri": "https://localhost:8080/"
    },
    "id": "ixyhUzYehsej",
    "outputId": "6dd56ae7-cdbd-4f3b-b423-0577d1d1253d"
   },
   "outputs": [
    {
     "name": "stdout",
     "output_type": "stream",
     "text": [
      "Standard deviation of the array: 1.4142135623730951\n"
     ]
    }
   ],
   "source": [
    "print(\"Standard deviation of the array:\", np.std(np_array))"
   ]
  },
  {
   "cell_type": "code",
   "execution_count": 63,
   "metadata": {
    "colab": {
     "base_uri": "https://localhost:8080/"
    },
    "id": "jAJt1iY1htSY",
    "outputId": "f59c2e88-6fc7-41bc-b3f2-220c72c3a594"
   },
   "outputs": [
    {
     "name": "stdout",
     "output_type": "stream",
     "text": [
      "Array sum: 15\n"
     ]
    }
   ],
   "source": [
    "print(\"Array sum:\", np.sum(np_array))"
   ]
  },
  {
   "cell_type": "code",
   "execution_count": 64,
   "metadata": {
    "colab": {
     "base_uri": "https://localhost:8080/"
    },
    "id": "0fRoewfHhuH6",
    "outputId": "d0cb33e3-cb10-4b5b-d0e2-29f2c26e707a"
   },
   "outputs": [
    {
     "name": "stdout",
     "output_type": "stream",
     "text": [
      "Cumulative sum of the array: [ 1  3  6 10 15]\n"
     ]
    }
   ],
   "source": [
    "print(\"Cumulative sum of the array:\", np.cumsum(np_array))"
   ]
  },
  {
   "cell_type": "code",
   "execution_count": 65,
   "metadata": {
    "colab": {
     "base_uri": "https://localhost:8080/"
    },
    "id": "1h0C5KTFhvAF",
    "outputId": "62a2a3f6-4370-404c-f7e0-68ef3bed746d"
   },
   "outputs": [
    {
     "name": "stdout",
     "output_type": "stream",
     "text": [
      "Element-wise square of the array: [ 1  4  9 16 25]\n"
     ]
    }
   ],
   "source": [
    "print(\"Element-wise square of the array:\", np.square(np_array))"
   ]
  }
 ],
 "metadata": {
  "colab": {
   "collapsed_sections": [
    "2DL-Smi16br4",
    "gqy37LhQvbkA"
   ],
   "provenance": []
  },
  "kernelspec": {
   "display_name": "base",
   "language": "python",
   "name": "python3"
  },
  "language_info": {
   "codemirror_mode": {
    "name": "ipython",
    "version": 3
   },
   "file_extension": ".py",
   "mimetype": "text/x-python",
   "name": "python",
   "nbconvert_exporter": "python",
   "pygments_lexer": "ipython3",
   "version": "3.12.7"
  }
 },
 "nbformat": 4,
 "nbformat_minor": 4
}
