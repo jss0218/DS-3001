{
 "cells": [
  {
   "cell_type": "code",
   "execution_count": null,
   "metadata": {
    "id": "m72x8qWdzu13"
   },
   "outputs": [],
   "source": [
    "import pandas as pd\n",
    "import numpy as np"
   ]
  },
  {
   "cell_type": "markdown",
   "metadata": {
    "id": "S4zFByJAzzDb"
   },
   "source": [
    "# Join Functions in Pandas\n",
    "Simple Data Edition"
   ]
  },
  {
   "cell_type": "markdown",
   "metadata": {},
   "source": [
    "[![Open In Colab](https://colab.research.google.com/assets/colab-badge.svg)](https://colab.research.google.com/drive/1kjnuDt5HdnC_3HOL3kwV339s-8CvDnmG?usp=sharing)"
   ]
  },
  {
   "cell_type": "code",
   "execution_count": null,
   "metadata": {
    "colab": {
     "base_uri": "https://localhost:8080/",
     "height": 206
    },
    "id": "yQD1QPAa0hB6",
    "outputId": "222640c6-3d1d-4976-a8ab-8146572b8d6e"
   },
   "outputs": [],
   "source": [
    "data_a = {'Fruit': ['Apple', 'Banana', 'Cherry', 'Date', 'Dragonfruit'], 'Price': [1.20, 0.50, 2.00, 3.00, 0.01]}\n",
    "df_a = pd.DataFrame(data_a)\n",
    "df_a"
   ]
  },
  {
   "cell_type": "code",
   "execution_count": null,
   "metadata": {
    "colab": {
     "base_uri": "https://localhost:8080/",
     "height": 175
    },
    "id": "Jknq8g4K0mSx",
    "outputId": "34105947-e760-4ee1-cf42-9ef976a1cbb8"
   },
   "outputs": [],
   "source": [
    "data_b = {'Fruit': ['Apple', 'Banana', 'Elderberry', 'Fig'], 'Price': [100.30, 1000.55, 452.00, 200.50]}\n",
    "df_b = pd.DataFrame(data_b)\n",
    "df_b"
   ]
  },
  {
   "cell_type": "markdown",
   "metadata": {
    "id": "pt3lQfn602-p"
   },
   "source": [
    "Some fruits in df_a aren't in df_b. Because they don't have data in df_b, they return as NaN cells."
   ]
  },
  {
   "cell_type": "code",
   "execution_count": null,
   "metadata": {
    "colab": {
     "base_uri": "https://localhost:8080/",
     "height": 206
    },
    "id": "X0KTp3rsz2Jg",
    "outputId": "80c4eed6-0a87-44cf-ce9f-c80a3c49ce7c"
   },
   "outputs": [],
   "source": [
    "pd.merge(df_a, df_b, on='Fruit', how='left')"
   ]
  },
  {
   "cell_type": "markdown",
   "metadata": {
    "id": "QfZrDpB31Y_b"
   },
   "source": [
    "Pandas columns must be unique, so it gives alphabet based suffixes if merged datasets have the same column name. Let's use custom suffixes instead."
   ]
  },
  {
   "cell_type": "code",
   "execution_count": null,
   "metadata": {
    "colab": {
     "base_uri": "https://localhost:8080/",
     "height": 206
    },
    "id": "XKisF2r000dg",
    "outputId": "b0cc3916-87da-4b81-d6b8-4710e559e8b0"
   },
   "outputs": [],
   "source": [
    "pd.merge(df_a, df_b, on='Fruit', how='left', suffixes=('_Walmart', '_Whole_Foods'))"
   ]
  },
  {
   "cell_type": "code",
   "execution_count": null,
   "metadata": {
    "colab": {
     "base_uri": "https://localhost:8080/",
     "height": 112
    },
    "id": "y07G1-Lt1PKW",
    "outputId": "7f9aefa4-227f-4199-fdf0-86fb5b0f39ab"
   },
   "outputs": [],
   "source": [
    "pd.merge(df_a, df_b, on='Fruit', how='inner', suffixes=('_Walmart', '_Whole_Foods'))"
   ]
  },
  {
   "cell_type": "code",
   "execution_count": null,
   "metadata": {
    "colab": {
     "base_uri": "https://localhost:8080/",
     "height": 269
    },
    "id": "eizVpgZq1X76",
    "outputId": "7ef43c8c-ea0b-4824-8be6-d2068fa34b06"
   },
   "outputs": [],
   "source": [
    "pd.merge(df_a, df_b, on='Fruit', how='outer', suffixes=('_Walmart', '_Whole_Foods'))"
   ]
  },
  {
   "cell_type": "markdown",
   "metadata": {
    "id": "tnNfERwb1prM"
   },
   "source": [
    "### Left vs. Right Merges"
   ]
  },
  {
   "cell_type": "markdown",
   "metadata": {
    "id": "AlkQr04J2Cl5"
   },
   "source": [
    "Left join starts with all the columns on the left dataset. Elements in A not in B have NaNs."
   ]
  },
  {
   "cell_type": "code",
   "execution_count": null,
   "metadata": {
    "colab": {
     "base_uri": "https://localhost:8080/"
    },
    "id": "PyEAwltU1tIs",
    "outputId": "5e800757-dbcf-4888-995e-87b55f40d73a"
   },
   "outputs": [],
   "source": [
    "df_a.Fruit.tolist()"
   ]
  },
  {
   "cell_type": "code",
   "execution_count": null,
   "metadata": {
    "colab": {
     "base_uri": "https://localhost:8080/",
     "height": 206
    },
    "id": "yKUWpwp81sSH",
    "outputId": "2db27550-f1ef-47c8-9d45-28b0da8b1b8d"
   },
   "outputs": [],
   "source": [
    "pd.merge(df_a, df_b, on='Fruit', how='left', suffixes=('_Walmart', '_Whole_Foods'))"
   ]
  },
  {
   "cell_type": "markdown",
   "metadata": {
    "id": "KcHS1aVF2Jyi"
   },
   "source": [
    "Right join starts with all the columns on the right dataset. Elements in B not in A have NaNs."
   ]
  },
  {
   "cell_type": "code",
   "execution_count": null,
   "metadata": {
    "colab": {
     "base_uri": "https://localhost:8080/"
    },
    "id": "4pjEPx7w1u35",
    "outputId": "3ae07854-64ba-4f0a-ef44-ae8ad89ef797"
   },
   "outputs": [],
   "source": [
    "df_b.Fruit.tolist()"
   ]
  },
  {
   "cell_type": "code",
   "execution_count": null,
   "metadata": {
    "colab": {
     "base_uri": "https://localhost:8080/",
     "height": 175
    },
    "id": "2jTQVD7C1mGd",
    "outputId": "1297352a-e53b-4141-b06a-c9f11a89f74e"
   },
   "outputs": [],
   "source": [
    "pd.merge(df_a, df_b, on='Fruit', how='right', suffixes=('_Walmart', '_Whole_Foods'))"
   ]
  },
  {
   "cell_type": "markdown",
   "metadata": {
    "id": "W7ZdhDjP2XFT"
   },
   "source": [
    "Because left and right joins are essentially the same data, you get the same result by flipping the parameters and join type."
   ]
  },
  {
   "cell_type": "code",
   "execution_count": null,
   "metadata": {
    "colab": {
     "base_uri": "https://localhost:8080/",
     "height": 206
    },
    "id": "RMxMruPz2eK8",
    "outputId": "70f82ffa-00bc-411c-9b28-3953c51cba18"
   },
   "outputs": [],
   "source": [
    "# Left Join: A then B\n",
    "pd.merge(df_a, df_b, on='Fruit', how='left', suffixes=('_Walmart', '_Whole_Foods'))"
   ]
  },
  {
   "cell_type": "code",
   "execution_count": null,
   "metadata": {
    "colab": {
     "base_uri": "https://localhost:8080/",
     "height": 206
    },
    "id": "OUq0MJFo2gKk",
    "outputId": "50f682ef-53ea-4598-d34b-290123904a40"
   },
   "outputs": [],
   "source": [
    "# Right Join: B then A\n",
    "pd.merge(df_b, df_a, on='Fruit', how='right', suffixes=('_Whole_Foods', '_Walmart'))"
   ]
  },
  {
   "cell_type": "markdown",
   "metadata": {
    "id": "Oh8wfktP2sk3"
   },
   "source": [
    "Same table! Just different column order."
   ]
  }
 ],
 "metadata": {
  "colab": {
   "provenance": []
  },
  "kernelspec": {
   "display_name": "Python 3 (ipykernel)",
   "language": "python",
   "name": "python3"
  },
  "language_info": {
   "codemirror_mode": {
    "name": "ipython",
    "version": 3
   },
   "file_extension": ".py",
   "mimetype": "text/x-python",
   "name": "python",
   "nbconvert_exporter": "python",
   "pygments_lexer": "ipython3",
   "version": "3.8.17"
  }
 },
 "nbformat": 4,
 "nbformat_minor": 4
}
